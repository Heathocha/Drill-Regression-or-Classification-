{
 "cells": [
  {
   "cell_type": "markdown",
   "metadata": {},
   "source": [
    "# Drill:  Regression or Classification\n",
    "\n",
    "## Determine if a regression or classification model should be used for the following situations.  Provide explanations to the reasoning.\n",
    "\n",
    "#### 1.  The amount a person will spend on a given site in the next 24 months\n",
    "\n",
    "Regression because you want to see a continuous output variable.  \n",
    "\n",
    "#### 2.  What color car someone is going to buy.\n",
    "\n",
    "Classification because you can't input the actual values of the colors into the model.  However, you can have a training set that has values for the different outcome variables.  You would be able to put in the model of the car, make,etc. \n",
    "\n",
    "#### 3.  How many children a family will have.\n",
    "\n",
    "Regression.  You are using the data to turn out a numerical value.  \n",
    "\n",
    "#### 4.  If someone will sign up for a service.\n",
    "\n",
    "Classification.  You could use different indicators to put things into categories.  You can work to get simple answers on questions (yes/no) to determine if someone will sign up for a sevice as an example.\n",
    "\n",
    "#### 5.  The number of times someone will get sick in a year.\n",
    "\n",
    "This is an interesting one in that you could use either regression or classification depending on your situation.  If you have all the information (min to max), you could use regression.  However, if you don't have this information, then you could use classification and utilize different indicators to predoct the number of times someone will get sick in a year.\n",
    "\n",
    "#### 6.  The probability someone will get sick in the next month.\n",
    "\n",
    "Classification.  You would use values/situations that would be able to show trend of the probability of someone getting sick in the next month.\n",
    "\n",
    "#### 7.  Which medicine will work best for a given patient.\n",
    "\n",
    "Classification.  Sames as above, could use values/situations that would be able to show symptoms, success rates, failure, rates, etc. \n",
    "\n",
    "\n"
   ]
  },
  {
   "cell_type": "code",
   "execution_count": null,
   "metadata": {},
   "outputs": [],
   "source": []
  }
 ],
 "metadata": {
  "kernelspec": {
   "display_name": "Python 3",
   "language": "python",
   "name": "python3"
  },
  "language_info": {
   "codemirror_mode": {
    "name": "ipython",
    "version": 3
   },
   "file_extension": ".py",
   "mimetype": "text/x-python",
   "name": "python",
   "nbconvert_exporter": "python",
   "pygments_lexer": "ipython3",
   "version": "3.7.0"
  }
 },
 "nbformat": 4,
 "nbformat_minor": 2
}
